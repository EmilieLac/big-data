{
 "cells": [
  {
   "cell_type": "markdown",
   "metadata": {},
   "source": [
    "# New York City Taxi Cab Trip\n",
    "\n",
    "We look at [the New York City Taxi Cab dataset](http://www.nyc.gov/html/tlc/html/about/trip_record_data.shtml). This includes every ride made in the city of New York since 2009.\n",
    "\n",
    "On [this website](http://chriswhong.github.io/nyctaxi/) you can see the data for one random NYC yellow taxi on a single day.\n",
    "\n",
    "On [this post](http://toddwschneider.com/posts/analyzing-1-1-billion-nyc-taxi-and-uber-trips-with-a-vengeance/), you can see an analysis of this dataset. Postgres and R scripts are available on [GitHub](https://github.com/toddwschneider/nyc-taxi-data)."
   ]
  },
  {
   "cell_type": "markdown",
   "metadata": {},
   "source": [
    "## Loading the data\n",
    "\n",
    "Normally we would read and load this data into memory as a Pandas dataframe.  However in this case that would be unwise because this data is too large to fit in RAM.\n",
    "\n",
    "The data can stay in the hdfs filesystem but for performance reason we can't use the csv format. The file is large (32Go) and text formatted. Data Access is very slow."
   ]
  },
  {
   "cell_type": "markdown",
   "metadata": {},
   "source": [
    "## Parquet file format\n",
    "\n",
    "[Parquet format](https://github.com/apache/parquet-format) is a common binary data store, used particularly in the Hadoop/big-data sphere. It provides several advantages relevant to big-data processing:\n",
    "\n",
    "- columnar storage, only read the data of interest\n",
    "- efficient binary packing\n",
    "- choice of compression algorithms and encoding\n",
    "- split data into files, allowing for parallel processing\n",
    "- range of logical types\n",
    "- statistics stored in metadata allow for skipping unneeded chunks\n",
    "- data partitioning using the directory structure"
   ]
  },
  {
   "cell_type": "markdown",
   "metadata": {},
   "source": [
    "To convert the csv file to parquet we can use Spark.\n",
    "```python\n",
    "from pyspark.sql import SparkSession\n",
    "spark = SparkSession.builder \\\n",
    "        .master('local[4]') \\\n",
    "        .config('spark.hadoop.parquet.enable.summary-metadata', 'true') \\\n",
    "        .config(\"spark.cores.max\", \"10\") \\\n",
    "        .getOrCreate()\n",
    "df = spark.read.csv(\n",
    "\"hdfs://svmass2.mass.uhb.fr:54310/user/datasets/nyc-tlc/2009/yellow_tripdata_2009-01.csv\", \n",
    "                    header=\"true\",inferSchema=\"true\")\n",
    "df.write.parquet(\"hdfs://svmass2.mass.uhb.fr:54310/user/navaro_p/nyc-taxi/2019-01.parquet\")\n",
    "spark.stop()\n",
    "```\n",
    "\n",
    "To read multiple files\n",
    "```py\n",
    "spark.read.format(\"csv\").option(\"header\", \"true\").load(\"../Downloads/*.csv\")\n",
    "```"
   ]
  },
  {
   "cell_type": "markdown",
   "metadata": {},
   "source": [
    "### Exercise\n",
    "\n",
    "- Pick a year and read and convert csv files to parquet in your hdfs homedirectory.\n",
    "- **Don't run the python code inside a notebook cell**. Save a python script and launch it from a terminal instead.\n",
    "In Jupyter notebook you won't see any progress or information if error occurs."
   ]
  },
  {
   "cell_type": "markdown",
   "metadata": {},
   "source": [
    "## Read  `parquet` file with Python\n",
    "\n",
    "[fastparquet](http://fastparquet.readthedocs.io/en/latest/) provides a performant library to read and write Parquet files from Python, without any need for a Python-Java bridge. This will make the Parquet format an ideal storage mechanism for Python-based big data workflows.\n",
    "\n",
    "The tabular nature of Parquet is a good fit for the Pandas data-frame objects, and we exclusively deal with data-frame <-> Parquet.\n",
    "\n",
    "We will use a software layer to access the data. For performance reason the data must be aligned in memory along columns. It is not the default in Python. Apache Arrow will do this for you and improve performance.\n",
    "\n",
    "Example:\n",
    "```py\n",
    "import fastparquet as fp\n",
    "pf = fp.ParquetFile('/user/navaro_p/2016-yellow.parquet', open_with=hdfs.open)\n",
    "pf\n",
    "```"
   ]
  },
  {
   "cell_type": "markdown",
   "metadata": {},
   "source": [
    "## Apache Arrow\n",
    "\n",
    "[Arrow](https://arrow.apache.org/docs/python/) is a columnar in-memory analytics layer designed to accelerate big data. It houses a set of canonical in-memory representations of flat and hierarchical data along with multiple language-bindings for structure manipulation.\n",
    "\n",
    "https://arrow.apache.org/docs/python/parquet.html\n",
    "\n",
    "The Apache Parquet project provides a standardized open-source columnar storage format for use in data analysis systems. It was created originally for use in Apache Hadoop with systems like Apache Drill, Apache Hive, Apache Impala, and Apache Spark adopting it as a shared standard for high performance data IO.\n",
    "\n",
    "Apache Arrow is an ideal in-memory transport layer for data that is being read or written with Parquet files. [PyArrow](https://arrow.apache.org/docs/python/) includes Python bindings to read and write Parquet files with pandas."
   ]
  },
  {
   "cell_type": "markdown",
   "metadata": {},
   "source": [
    "For lighter data, it is recommanded to use [Feather](https://github.com/wesm/feather). It is a fast, interoperable data frame storage that comes with bindings for python and R.\n",
    "\n",
    "Feather uses also the Apache Arrow columnar memory specification to represent binary data on disk. This makes read and write operations very fast.\n",
    "\n",
    "Example:\n",
    "```py\n",
    "import pyarrow as pa\n",
    "hdfs = pa.hdfs.connect('svmass2.mass.uhb.fr', 54311, 'navaro_p')\n",
    "```"
   ]
  },
  {
   "cell_type": "markdown",
   "metadata": {},
   "source": [
    "## Spark Cluster\n",
    "\n",
    "A Spark cluster is available and described on this [web interface](http://svmass2.mass.uhb.fr:8080)\n",
    "\n",
    "![](images/cluster-overview.png)\n",
    "\n",
    "```py\n",
    "from pyspark.sql import SparkSession\n",
    "spark = SparkSession.builder \\\n",
    "        .master('spark://svmass2.mass.uhb.fr:7077') \\\n",
    "        .getOrCreate()\n",
    "spark\n",
    "```\n",
    "\n",
    "The SparkSession is connected to the Spark’s own standalone cluster manager (It is also possible to use YARN). The manager allocate resources across applications. Once connected, Spark acquires executors on nodes in the cluster, which are processes that run computations and store data for your application. Next, it sends your application code (Python file) to the executors. Finally, tasks are sent to the executors to run.\n",
    "\n",
    "Spark can access to files located on hdfs and it is also possible to access to local files. Example:\n",
    "\n",
    "```py\n",
    "df = spark.read.parquet('file:///home/navaro_p/nyc-taxi/2016.parquet')\n",
    "```"
   ]
  },
  {
   "cell_type": "markdown",
   "metadata": {},
   "source": [
    "## Some examples that can be run on the cluster\n",
    "\n",
    "- Read the NYC taxi data files of year 2016 adn select some variables.\n",
    "\n",
    "```py\n",
    "columns = ['tpep_pickup_datetime', 'passenger_count', 'pickup_longitude', 'pickup_latitude', 'dropoff_longitude', 'dropoff_latitude', 'payment_type', 'fare_amount', 'tip_amount', 'total_amount']\n",
    "\n",
    "df = (spark.read.parquet('hdfs://svmass2.mass.uhb.fr:54311/user/navaro/nyc-taxi/2016.parquet').select(*columns))\n",
    "```\n",
    "\n",
    "- Sum the total number of passengers\n",
    "```py\n",
    "df.agg({'passenger_count': 'sum'}).collect()\n",
    "```\n",
    "\n",
    "- Average number of passenger per trip`\n",
    "```py\n",
    "df.agg({'passenger_count': 'avg'}).collect()\n",
    "```\n",
    "\n",
    "- How many trip with 0,1,2,3,...,9 passenger`\n",
    "```py\n",
    "df.groupby('passenger_count').agg({'*': 'count'}).collect()\n",
    "```"
   ]
  },
  {
   "cell_type": "markdown",
   "metadata": {},
   "source": [
    "## Exercise\n",
    "How well people tip based on the number of passengers in a cab.  To do this you have to:\n",
    "\n",
    "1.  Remove rides with zero fare\n",
    "2.  Add a new column `tip_fraction` that is equal to the ratio of the tip to the fare\n",
    "3.  Group by the `passenger_count` column and take the mean of the `tip_fraction` column.\n",
    "\n",
    "### Cheat Sheets and documentation\n",
    "- [Spark DataFrames in Python](https://s3.amazonaws.com/assets.datacamp.com/blog_assets/PySpark_SQL_Cheat_Sheet_Python.pdf)\n",
    "- [Spark in Python](http://datacamp-community.s3.amazonaws.com/4d91fcbc-820d-4ae2-891b-f7a436ebefd4)\n",
    "-  https://spark.apache.org/docs/latest/api/python/pyspark.sql.html\n",
    "\n",
    "Refer to the [Spark UI](../../../9070) for feedback."
   ]
  },
  {
   "cell_type": "markdown",
   "metadata": {},
   "source": [
    "## Hints\n",
    "\n",
    "- How to remove rows\n",
    "```python\n",
    "df = df.filter(df.name == 'expression')\n",
    "```\n",
    "\n",
    "- How to make new columns\n",
    "```python\n",
    "df = df.withColumn('var2', df.var0 + df.var1)\n",
    "```\n",
    "\n",
    "- How to do groupby-aggregations\n",
    "```python\n",
    "df.groupBy(df.name).agg({'column-name': 'avg'})\n",
    "```\n",
    "\n",
    "When you want to collect the result of your computation, finish with the `.collect()` method."
   ]
  },
  {
   "cell_type": "code",
   "execution_count": 11,
   "metadata": {},
   "outputs": [
    {
     "data": {
      "text/plain": [
       "[Row(passenger_count=1, avg(tip_fraction)=0.17575518500251763),\n",
       " Row(passenger_count=6, avg(tip_fraction)=0.13983510145473738),\n",
       " Row(passenger_count=3, avg(tip_fraction)=0.14531817942803918),\n",
       " Row(passenger_count=5, avg(tip_fraction)=0.14320540950610772),\n",
       " Row(passenger_count=9, avg(tip_fraction)=1.5275117397957647),\n",
       " Row(passenger_count=4, avg(tip_fraction)=0.12744269701699368),\n",
       " Row(passenger_count=8, avg(tip_fraction)=0.29431817121207565),\n",
       " Row(passenger_count=7, avg(tip_fraction)=0.1641076331382901),\n",
       " Row(passenger_count=2, avg(tip_fraction)=0.15518521844025632),\n",
       " Row(passenger_count=0, avg(tip_fraction)=1.5782467400835083)]"
      ]
     },
     "execution_count": 11,
     "metadata": {},
     "output_type": "execute_result"
    }
   ],
   "source": [
    "## Your code here..."
   ]
  },
  {
   "cell_type": "code",
   "execution_count": 12,
   "metadata": {},
   "outputs": [],
   "source": [
    "spark.stop()"
   ]
  },
  {
   "cell_type": "markdown",
   "metadata": {},
   "source": [
    "### Exercices \n",
    "\n",
    "1. Plot the tip as a function of the hour of day and the day of the week?\n",
    "2. Investigate the `payment_type` column.  See how well each of the payment types correlate with the `tip_fraction`.  Did you find anything interesting?  Any guesses on what the different payment types might be?  If you're interested you may be able to find more information on the [NYC TLC's website](http://www.nyc.gov/html/tlc/html/about/trip_record_data.shtml)\n",
    "3.  How quickly can you get a taxi cab for a particular day of the year?  How about for a particular hour of that day?\n",
    "\n"
   ]
  },
  {
   "cell_type": "code",
   "execution_count": null,
   "metadata": {},
   "outputs": [],
   "source": []
  }
 ],
 "metadata": {
  "kernelspec": {
   "display_name": "Python (big-data)",
   "language": "python",
   "name": "big-data"
  },
  "language_info": {
   "codemirror_mode": {
    "name": "ipython",
    "version": 3
   },
   "file_extension": ".py",
   "mimetype": "text/x-python",
   "name": "python",
   "nbconvert_exporter": "python",
   "pygments_lexer": "ipython3",
   "version": "3.6.6"
  }
 },
 "nbformat": 4,
 "nbformat_minor": 2
}
