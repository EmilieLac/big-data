{
 "cells": [
  {
   "cell_type": "markdown",
   "metadata": {
    "slideshow": {
     "slide_type": "slide"
    }
   },
   "source": [
    "# Basic Commands In the Unix Shell\n",
    "\n",
    "For windows 10 users, activate [bash](http://www.numerama.com/tech/158150-le-shell-bash-sous-windows-10-ce-quil-faut-savoir.html).\n",
    "\n",
    "\n",
    "## Unix Shell\n",
    "The shell is a command programming language that provides an interface to the UNIX operating system. Documentation of unix command is displayed by command `man`. Exemple:\n",
    "```bash\n",
    "man ls\n",
    "```\n",
    "\n"
   ]
  },
  {
   "cell_type": "code",
   "execution_count": 1,
   "metadata": {
    "slideshow": {
     "slide_type": "fragment"
    }
   },
   "outputs": [
    {
     "name": "stdout",
     "output_type": "stream",
     "text": [
      "man(1)                                                                  man(1)\n",
      "\n",
      "\n",
      "\n",
      "N\bNA\bAM\bME\bE\n",
      "       man - format and display the on-line manual pages\n",
      "\n",
      "S\bSY\bYN\bNO\bOP\bPS\bSI\bIS\bS\n",
      "       m\bma\ban\bn  [-\b-a\bac\bcd\bdf\bfF\bFh\bhk\bkK\bKt\btw\bwW\bW]  [-\b--\b-p\bpa\bat\bth\bh]  [-\b-m\bm _\bs_\by_\bs_\bt_\be_\bm] [-\b-p\bp _\bs_\bt_\br_\bi_\bn_\bg] [-\b-C\bC _\bc_\bo_\bn_\bf_\bi_\bg_\b__\bf_\bi_\bl_\be]\n",
      "       [-\b-M\bM _\bp_\ba_\bt_\bh_\bl_\bi_\bs_\bt] [-\b-P\bP _\bp_\ba_\bg_\be_\br] [-\b-B\bB _\bb_\br_\bo_\bw_\bs_\be_\br] [-\b-H\bH _\bh_\bt_\bm_\bl_\bp_\ba_\bg_\be_\br] [-\b-S\bS  _\bs_\be_\bc_\bt_\bi_\bo_\bn_\b__\bl_\bi_\bs_\bt]\n",
      "       [_\bs_\be_\bc_\bt_\bi_\bo_\bn] _\bn_\ba_\bm_\be _\b._\b._\b.\n",
      "\n",
      "\n",
      "D\bDE\bES\bSC\bCR\bRI\bIP\bPT\bTI\bIO\bON\bN\n",
      "       m\bma\ban\bn formats and displays the on-line manual pages.  If you specify _\bs_\be_\bc_\b-\n",
      "       _\bt_\bi_\bo_\bn, m\bma\ban\bn only looks in that section of the manual.  _\bn_\ba_\bm_\be  is  normally\n",
      "       the  name of the manual page, which is typically the name of a command,\n",
      "       function, or file.  However, if _\bn_\ba_\bm_\be contains  a  slash  (/\b/)  then  m\bma\ban\bn\n",
      "       interprets  it  as a file specification, so that you can do m\bma\ban\bn .\b./\b/f\bfo\boo\bo.\b.5\b5\n",
      "       or even m\bma\ban\bn /\b/c\bcd\bd/\b/f\bfo\boo\bo/\b/b\bba\bar\br.\b.1\b1.\b.g\bgz\bz.\n",
      "\n",
      "       See below for a description of where m\bma\ban\bn  looks  for  the  manual  page\n",
      "       files.\n",
      "\n",
      "\n",
      "O\bOP\bPT\bTI\bIO\bON\bNS\bS\n",
      "       -\b-C\bC  c\bco\bon\bnf\bfi\big\bg_\b_f\bfi\bil\ble\be\n",
      "              Specify  the  configuration  file  to  use; the default is /\b/p\bpr\bri\bi-\b-\n",
      "              v\bva\bat\bte\be/\b/e\bet\btc\bc/\b/m\bma\ban\bn.\b.c\bco\bon\bnf\bf.  (See m\bma\ban\bn.\b.c\bco\bon\bnf\bf(5).)\n",
      "\n",
      "       -\b-M\bM  p\bpa\bat\bth\bh\n",
      "              Specify the list of directories to search for man pages.   Sepa-\n",
      "              rate  the directories with colons.  An empty list is the same as\n",
      "              not specifying -\b-M\bM at all.  See S\bSE\bEA\bAR\bRC\bCH\bH P\bPA\bAT\bTH\bH F\bFO\bOR\bR M\bMA\bAN\bNU\bUA\bAL\bL P\bPA\bAG\bGE\bES\bS.\n",
      "\n",
      "       -\b-P\bP  p\bpa\bag\bge\ber\br\n",
      "              Specify which pager to use.  This option overrides the  M\bMA\bAN\bNP\bPA\bAG\bGE\bER\bR\n",
      "              environment  variable,  which  in turn overrides the P\bPA\bAG\bGE\bER\bR vari-\n",
      "              able.  By default, m\bma\ban\bn uses /\b/u\bus\bsr\br/\b/b\bbi\bin\bn/\b/l\ble\bes\bss\bs -\b-i\bis\bs.\n",
      "\n",
      "       -\b-B\bB     Specify which browser to use on HTML files.  This  option  over-\n",
      "              rides  the  B\bBR\bRO\bOW\bWS\bSE\bER\bR  environment  variable. By default, m\bma\ban\bn uses\n",
      "              /\b/u\bus\bsr\br/\b/b\bbi\bin\bn/\b/l\ble\bes\bss\bs-is,\b,\n",
      "\n",
      "       -\b-H\bH     Specify a command that renders HTML files as text.  This  option\n",
      "              overrides  the  H\bHT\bTM\bML\bLP\bPA\bAG\bGE\bER\bR  environment variable. By default, m\bma\ban\bn\n",
      "              uses /\b/b\bbi\bin\bn/\b/c\bca\bat\bt,\n",
      "\n",
      "       -\b-S\bS  s\bse\bec\bct\bti\bio\bon\bn_\b_l\bli\bis\bst\bt\n",
      "              List is a colon separated list of  manual  sections  to  search.\n",
      "              This option overrides the M\bMA\bAN\bNS\bSE\bEC\bCT\bT environment variable.\n",
      "\n",
      "       -\b-a\ba     By default, m\bma\ban\bn will exit after displaying the first manual page\n",
      "              it finds.  Using this option forces m\bma\ban\bn to display all the  man-\n",
      "              ual pages that match n\bna\bam\bme\be,\b, not just the first.\n",
      "\n",
      "       -\b-c\bc     Reformat  the  source man page, even when an up-to-date cat page\n",
      "              exists.  This can be meaningful if the cat  page  was  formatted\n",
      "              for  a screen with a different number of columns, or if the pre-\n",
      "              formatted page is corrupted.\n",
      "\n",
      "       -\b-d\bd     Don't actually display the man  pages,  but  do  print  gobs  of\n",
      "              debugging information.\n",
      "\n",
      "       -\b-D\bD     Both display and print debugging info.\n",
      "\n",
      "       -\b-f\bf     Equivalent to w\bwh\bha\bat\bti\bis\bs.\n",
      "\n",
      "       -\b-F\bF or -\b--\b-p\bpr\bre\bef\bfo\bor\brm\bma\bat\bt\n",
      "              Format only - do not display.\n",
      "\n",
      "       -\b-h\bh     Print a help message and exit.\n",
      "\n",
      "       -\b-k\bk     Equivalent to a\bap\bpr\bro\bop\bpo\bos\bs.\n",
      "\n",
      "       -\b-K\bK     Search  for  the  specified  string in *all* man pages. Warning:\n",
      "              this is probably very slow!  It  helps  to  specify  a  section.\n",
      "              (Just  to  give  a  rough idea, on my machine this takes about a\n",
      "              minute per 500 man pages.)\n",
      "\n",
      "       -\b-m\bm  s\bsy\bys\bst\bte\bem\bm\n",
      "              Specify an alternate set of man pages to  search  based  on  the\n",
      "              system name given.\n",
      "\n",
      "       -\b-p\bp  s\bst\btr\bri\bin\bng\bg\n",
      "              Specify  the  sequence  of  preprocessors to run before n\bnr\bro\bof\bff\bf or\n",
      "              t\btr\bro\bof\bff\bf.  Not all installations will have a full set of preproces-\n",
      "              sors.   Some of the preprocessors and the letters used to desig-\n",
      "              nate them are: eqn (e), grap (g), pic (p), tbl (t), vgrind  (v),\n",
      "              refer  (r).   This  option  overrides the M\bMA\bAN\bNR\bRO\bOF\bFF\bFS\bSE\bEQ\bQ environment\n",
      "              variable.\n",
      "\n",
      "       -\b-t\bt     Use /\b/u\bus\bsr\br/\b/b\bbi\bin\bn/\b/g\bgr\bro\bof\bff\bf -\b-T\bTp\bps\bs -\b-m\bma\ban\bnd\bdo\boc\bc -\b-c\bc to format  the  manual  page,\n",
      "              passing  the  output  to  s\bst\btd\bdo\bou\but\bt.\b.   The default output format of\n",
      "              /\b/u\bus\bsr\br/\b/b\bbi\bin\bn/\b/g\bgr\bro\bof\bff\bf -\b-T\bTp\bps\bs -\b-m\bma\ban\bnd\bdo\boc\bc -\b-c\bc is Postscript, refer to the  man-\n",
      "              ual  page  of /\b/u\bus\bsr\br/\b/b\bbi\bin\bn/\b/g\bgr\bro\bof\bff\bf -\b-T\bTp\bps\bs -\b-m\bma\ban\bnd\bdo\boc\bc -\b-c\bc for ways to pick an\n",
      "              alternate format.\n",
      "\n",
      "       Depending on the selected  format  and  the  availability  of  printing\n",
      "       devices,  the  output  may  need  to  be  passed through some filter or\n",
      "       another before being printed.\n",
      "\n",
      "       -\b-w\bw or -\b--\b-p\bpa\bat\bth\bh\n",
      "              Don't actually display the man pages, but  do  print  the  loca-\n",
      "              tion(s) of the files that would be formatted or displayed. If no\n",
      "              argument is given: display (on stdout) the list  of  directories\n",
      "              that  is  searched by m\bma\ban\bn for man pages. If m\bma\ban\bnp\bpa\bat\bth\bh is a link to\n",
      "              man, then \"manpath\" is equivalent to \"man --path\".\n",
      "\n",
      "       -\b-W\bW     Like -w, but print file names one per line,  without  additional\n",
      "              information.   This is useful in shell commands like m\bma\ban\bn -\b-a\baW\bW m\bma\ban\bn\n",
      "              |\b| x\bxa\bar\brg\bgs\bs l\bls\bs -\b-l\bl\n",
      "\n",
      "\n",
      "C\bCA\bAT\bT P\bPA\bAG\bGE\bES\bS\n",
      "       Man will try to save the formatted man pages, in order to save  format-\n",
      "       ting time the next time these pages are needed.  Traditionally, format-\n",
      "       ted versions of pages in DIR/manX are saved in DIR/catX, but other map-\n",
      "       pings   from   man   dir   to   cat  dir  can  be  specified  in  /\b/p\bpr\bri\bi-\b-\n",
      "       v\bva\bat\bte\be/\b/e\bet\btc\bc/\b/m\bma\ban\bn.\b.c\bco\bon\bnf\bf.  No cat pages are saved when the required cat direc-\n",
      "       tory  does  not  exist.  No cat pages are saved when they are formatted\n",
      "       for a line length different from 80.   No  cat  pages  are  saved  when\n",
      "       man.conf contains the line NOCACHE.\n",
      "\n",
      "       It is possible to make m\bma\ban\bn suid to a user man. Then, if a cat directory\n",
      "       has owner man and mode 0755 (only writable by man), and the  cat  files\n",
      "       have  owner  man  and  mode  0644 or 0444 (only writable by man, or not\n",
      "       writable at all), no ordinary user can change  the  cat  pages  or  put\n",
      "       other  files  in the cat directory. If m\bma\ban\bn is not made suid, then a cat\n",
      "       directory should have mode 0777 if all users should be  able  to  leave\n",
      "       cat pages there.\n",
      "\n",
      "       The  option  -\b-c\bc  forces  reformatting a page, even if a recent cat page\n",
      "       exists.\n",
      "\n",
      "\n",
      "H\bHT\bTM\bML\bL P\bPA\bAG\bGE\bES\bS\n",
      "       Man will find HTML pages if they live in directories named as  expected\n",
      "       to  be  \".html\", thus a valid name for an HTML version of the l\bls\bs(1) man\n",
      "       page would be _\b/_\bu_\bs_\br_\b/_\bs_\bh_\ba_\br_\be_\b/_\bm_\ba_\bn_\b/_\bh_\bt_\bm_\bl_\bm_\ba_\bn_\b1_\b/_\bl_\bs_\b._\b1_\b._\bh_\bt_\bm_\bl.\n",
      "\n",
      "\n",
      "S\bSE\bEA\bAR\bRC\bCH\bH P\bPA\bAT\bTH\bH F\bFO\bOR\bR M\bMA\bAN\bNU\bUA\bAL\bL P\bPA\bAG\bGE\bES\bS\n",
      "       m\bma\ban\bn uses a sophisticated method of finding manual page files, based  on\n",
      "       the   invocation   options   and   environment   variables,  the  /\b/p\bpr\bri\bi-\b-\n",
      "       v\bva\bat\bte\be/\b/e\bet\btc\bc/\b/m\bma\ban\bn.\b.c\bco\bon\bnf\bf configuration file, and some built in conventions and\n",
      "       heuristics.\n",
      "\n",
      "       First  of  all, when the _\bn_\ba_\bm_\be argument to m\bma\ban\bn contains a slash (/\b/), m\bma\ban\bn\n",
      "       assumes it is a file specification itself, and there  is  no  searching\n",
      "       involved.\n",
      "\n",
      "       But in the normal case where _\bn_\ba_\bm_\be doesn't contain a slash, m\bma\ban\bn searches\n",
      "       a variety of directories for a file that could be a manual page for the\n",
      "       topic named.\n",
      "\n",
      "       If  you  specify  the -\b-M\bM _\bp_\ba_\bt_\bh_\bl_\bi_\bs_\bt option, _\bp_\ba_\bt_\bh_\bl_\bi_\bs_\bt is a colon-separated\n",
      "       list of the directories that m\bma\ban\bn searches.\n",
      "\n",
      "       If you don't specify -\b-M\bM but set the M\bMA\bAN\bNP\bPA\bAT\bTH\bH environment  variable,  the\n",
      "       value  of  that  variable  is  the  list  of  the  directories that m\bma\ban\bn\n",
      "       searches.\n",
      "\n",
      "       If you don't specify an explicit path list  with  -\b-M\bM  or  M\bMA\bAN\bNP\bPA\bAT\bTH\bH,  m\bma\ban\bn\n",
      "       develops  its  own path list based on the contents of the configuration\n",
      "       file /\b/p\bpr\bri\biv\bva\bat\bte\be/\b/e\bet\btc\bc/\b/m\bma\ban\bn.\b.c\bco\bon\bnf\bf.  The M\bMA\bAN\bNP\bPA\bAT\bTH\bH statements in  the  configura-\n",
      "       tion  file  identify  particular  directories  to include in the search\n",
      "       path.\n",
      "\n",
      "       Furthermore, the M\bMA\bAN\bNP\bPA\bAT\bTH\bH_\b_M\bMA\bAP\bP statements add to the search path  depend-\n",
      "       ing  on your command search path (i.e. your P\bPA\bAT\bTH\bH environment variable).\n",
      "       For each directory that may be in  the  command  search  path,  a  M\bMA\bAN\bN-\b-\n",
      "       P\bPA\bAT\bTH\bH_\b_M\bMA\bAP\bP  statement  specifies  a directory that should be added to the\n",
      "       search path for manual page files.  m\bma\ban\bn looks at the P\bPA\bAT\bTH\bH variable  and\n",
      "       adds the corresponding directories to the manual page file search path.\n",
      "       Thus, with the proper use of M\bMA\bAN\bNP\bPA\bAT\bTH\bH_\b_M\bMA\bAP\bP, when you  issue  the  command\n",
      "       m\bma\ban\bn  x\bxy\byz\bz,  you  get a manual page for the program that would run if you\n",
      "       issued the command x\bxy\byz\bz.\n",
      "\n",
      "       In addition, for each directory in the command search path (we'll  call\n",
      "       it  a  \"command  directory\")  for  which  you do _\bn_\bo_\bt have a M\bMA\bAN\bNP\bPA\bAT\bTH\bH_\b_M\bMA\bAP\bP\n",
      "       statement, m\bma\ban\bn automatically looks for a manual page directory \"nearby\"\n",
      "       namely as a subdirectory in the command directory itself or in the par-\n",
      "       ent directory of the command directory.\n",
      "\n",
      "       You can disable the automatic \"nearby\" searches by  including  a  N\bNO\bOA\bAU\bU-\b-\n",
      "       T\bTO\bOP\bPA\bAT\bTH\bH statement in /\b/p\bpr\bri\biv\bva\bat\bte\be/\b/e\bet\btc\bc/\b/m\bma\ban\bn.\b.c\bco\bon\bnf\bf.\n",
      "\n",
      "       In  each  directory in the search path as described above, m\bma\ban\bn searches\n",
      "       for a file named _\bt_\bo_\bp_\bi_\bc.\b._\bs_\be_\bc_\bt_\bi_\bo_\bn, with an optional suffix on the  section\n",
      "       number  and  possibly  a compression suffix.  If it doesn't find such a\n",
      "       file, it then looks in any subdirectories named m\bma\ban\bn_\bN or c\bca\bat\bt_\bN where _\bN is\n",
      "       the  manual section number.  If the file is in a c\bca\bat\bt_\bN subdirectory, m\bma\ban\bn\n",
      "       assumes it is a formatted manual page file (cat page).  Otherwise,  m\bma\ban\bn\n",
      "       assumes it is unformatted.  In either case, if the filename has a known\n",
      "       compression suffix (like .\b.g\bgz\bz), m\bma\ban\bn assumes it is gzipped.\n",
      "\n",
      "       If you want to see where (or if) m\bma\ban\bn would find the manual page  for  a\n",
      "       particular topic, use the -\b--\b-p\bpa\bat\bth\bh (-\b-w\bw) option.\n",
      "\n",
      "\n",
      "E\bEN\bNV\bVI\bIR\bRO\bON\bNM\bME\bEN\bNT\bT\n",
      "       M\bMA\bAN\bNP\bPA\bAT\bTH\bH\n",
      "              If  M\bMA\bAN\bNP\bPA\bAT\bTH\bH is set, m\bma\ban\bn uses it as the path to search for manual\n",
      "              page files.  It overrides the configuration file and  the  auto-\n",
      "              matic  search  path,  but  is  overridden  by  the -\b-M\bM invocation\n",
      "              option.  See S\bSE\bEA\bAR\bRC\bCH\bH P\bPA\bAT\bTH\bH F\bFO\bOR\bR M\bMA\bAN\bNU\bUA\bAL\bL P\bPA\bAG\bGE\bES\bS.\n",
      "\n",
      "       M\bMA\bAN\bNP\bPL\bL  If M\bMA\bAN\bNP\bPL\bL is set, its value is used as the display  page  length.\n",
      "              Otherwise, the entire man page will occupy one (long) page.\n",
      "\n",
      "       M\bMA\bAN\bNR\bRO\bOF\bFF\bFS\bSE\bEQ\bQ\n",
      "              If  M\bMA\bAN\bNR\bRO\bOF\bFF\bFS\bSE\bEQ\bQ is set, its value is used to determine the set of\n",
      "              preprocessors run before running n\bnr\bro\bof\bff\bf or  t\btr\bro\bof\bff\bf.   By  default,\n",
      "              pages are passed through the tbl preprocessor before n\bnr\bro\bof\bff\bf.\n",
      "\n",
      "       M\bMA\bAN\bNS\bSE\bEC\bCT\bT\n",
      "              If  M\bMA\bAN\bNS\bSE\bEC\bCT\bT  is set, its value is used to determine which manual\n",
      "              sections to search.\n",
      "\n",
      "       M\bMA\bAN\bNW\bWI\bID\bDT\bTH\bH\n",
      "              If M\bMA\bAN\bNW\bWI\bID\bDT\bTH\bH is set, its value is  used  as  the  width  manpages\n",
      "              should  be displayed.  Otherwise the pages may be displayed over\n",
      "              the whole width of your screen.\n",
      "\n",
      "       M\bMA\bAN\bNP\bPA\bAG\bGE\bER\bR\n",
      "              If M\bMA\bAN\bNP\bPA\bAG\bGE\bER\bR is set, its value is used as the name of the program\n",
      "              to  use to display the man page.  If not, then P\bPA\bAG\bGE\bER\bR is used. If\n",
      "              that has no value either, /\b/u\bus\bsr\br/\b/b\bbi\bin\bn/\b/l\ble\bes\bss\bs -\b-i\bis\bs is used.\n",
      "\n",
      "       B\bBR\bRO\bOW\bWS\bSE\bER\bR\n",
      "              The name of a browser to use for displaying HTML  manual  pages.\n",
      "              If it is not set, /usr/bin/less -is is used.\n",
      "\n",
      "       H\bHT\bTM\bML\bLP\bPA\bAG\bGE\bER\bR\n",
      "              The  command to use for rendering HTML manual pages as text.  If\n",
      "              it is not set, /bin/cat is used.\n",
      "\n",
      "       L\bLA\bAN\bNG\bG   If L\bLA\bAN\bNG\bG is set, its value defines the name of  the  subdirectory\n",
      "              where  man first looks for man pages. Thus, the command `LANG=dk\n",
      "              man 1 foo' will cause man to  look  for  the  foo  man  page  in\n",
      "              .../dk/man1/foo.1,  and  if  it cannot find such a file, then in\n",
      "              .../man1/foo.1, where ... is a directory on the search path.\n",
      "\n",
      "       N\bNL\bLS\bSP\bPA\bAT\bTH\bH,\b, L\bLC\bC_\b_M\bME\bES\bSS\bSA\bAG\bGE\bES\bS,\b, L\bLA\bAN\bNG\bG\n",
      "              The environment variables N\bNL\bLS\bSP\bPA\bAT\bTH\bH and L\bLC\bC_\b_M\bME\bES\bSS\bSA\bAG\bGE\bES\bS (or L\bLA\bAN\bNG\bG  when\n",
      "              the  latter  does not exist) play a role in locating the message\n",
      "              catalog.  (But the English messages are  compiled  in,  and  for\n",
      "              English no catalog is required.)  Note that programs like c\bco\bol\bl(\b(1\b1)\b)\n",
      "              called by man also use e.g. LC_CTYPE.\n",
      "\n",
      "       P\bPA\bAT\bTH\bH   P\bPA\bAT\bTH\bH helps determine the search path for manual page files.  See\n",
      "              S\bSE\bEA\bAR\bRC\bCH\bH P\bPA\bAT\bTH\bH F\bFO\bOR\bR M\bMA\bAN\bNU\bUA\bAL\bL P\bPA\bAG\bGE\bES\bS.\n",
      "\n",
      "       S\bSY\bYS\bST\bTE\bEM\bM S\bSY\bYS\bST\bTE\bEM\bM is used to get the default alternate system name (for use\n",
      "              with the -\b-m\bm option).\n",
      "\n",
      "B\bBU\bUG\bGS\bS\n",
      "       The -\b-t\bt option only works if a troff-like program is installed.\n",
      "       If you see blinking  \\255  or  <AD>  instead  of  hyphens,  put  `LESS-\n",
      "       CHARSET=latin1' in your environment.\n",
      "\n",
      "T\bTI\bIP\bPS\bS\n",
      "       If you add the line\n",
      "\n",
      "         (global-set-key  [(f1)]  (lambda () (interactive) (manual-entry (cur-\n",
      "       rent-word))))\n",
      "\n",
      "       to your _\b._\be_\bm_\ba_\bc_\bs file, then hitting F1 will give you the man page for the\n",
      "       library call at the current cursor position.\n",
      "\n",
      "       To  get  a  plain  text  version  of a man page, without backspaces and\n",
      "       underscores, try\n",
      "\n",
      "         # man foo | col -b > foo.mantxt\n",
      "\n",
      "A\bAU\bUT\bTH\bHO\bOR\bR\n",
      "       John W. Eaton was the  original  author  of  m\bma\ban\bn.   Zeyd  M.  Ben-Halim\n",
      "       released  man  1.2,  and  Andries Brouwer followed up with versions 1.3\n",
      "       thru 1.5p.  Federico  Lucifredi  <flucifredi@acm.org>  is  the  current\n",
      "       maintainer.\n",
      "\n",
      "S\bSE\bEE\bE A\bAL\bLS\bSO\bO\n",
      "       apropos(1), whatis(1), less(1), groff(1), man.conf(5).\n",
      "\n",
      "\n",
      "\n",
      "                              September 19, 2005                        man(1)\n"
     ]
    }
   ],
   "source": [
    "%%bash\n",
    "man man"
   ]
  },
  {
   "cell_type": "markdown",
   "metadata": {
    "slideshow": {
     "slide_type": "slide"
    }
   },
   "source": [
    "## Directories\n",
    "The shell should start you in your home directory. This is your individual space on the UNIX system for your files. You can find out the name of your current working directory by typing:\n",
    "```sh\n",
    "pwd\n",
    "```"
   ]
  },
  {
   "cell_type": "markdown",
   "metadata": {
    "slideshow": {
     "slide_type": "fragment"
    }
   },
   "source": [
    "In the terminal, type the letters 'p', 'w', 'd', and then \"enter\" - always conclude each command by pressing the \"enter\" key. The response that follows on the next line will be the name of your home directory, where the name following the last slash should be your username.) The directory structure can be conceptualized as an inverted tree."
   ]
  },
  {
   "cell_type": "markdown",
   "metadata": {
    "slideshow": {
     "slide_type": "slide"
    }
   },
   "source": [
    "In the jupyter notebook, unix shell command can be executed using the escape character \"!\". You can type command directly in a terminal without the \"!\"."
   ]
  },
  {
   "cell_type": "code",
   "execution_count": 2,
   "metadata": {
    "scrolled": true,
    "slideshow": {
     "slide_type": "fragment"
    }
   },
   "outputs": [
    {
     "name": "stdout",
     "output_type": "stream",
     "text": [
      "/Users/navaro/PycharmProjects/big-data/notebooks\n"
     ]
    }
   ],
   "source": [
    "%%bash\n",
    "pwd"
   ]
  },
  {
   "cell_type": "markdown",
   "metadata": {
    "slideshow": {
     "slide_type": "fragment"
    }
   },
   "source": [
    "Some unix command (not all) are also jupyter magic command like %pwd"
   ]
  },
  {
   "cell_type": "code",
   "execution_count": 3,
   "metadata": {
    "slideshow": {
     "slide_type": "fragment"
    }
   },
   "outputs": [
    {
     "name": "stdout",
     "output_type": "stream",
     "text": [
      "/Users/navaro/PycharmProjects/big-data/notebooks\n"
     ]
    }
   ],
   "source": [
    "%%bash\n",
    "pwd"
   ]
  },
  {
   "cell_type": "markdown",
   "metadata": {
    "slideshow": {
     "slide_type": "slide"
    }
   },
   "source": [
    "## Home directory\n",
    "\n",
    "No matter where in the directory structure you are, you can always get back to your home directory by typing:\n",
    "```sh\n",
    "cd\n",
    "```"
   ]
  },
  {
   "cell_type": "markdown",
   "metadata": {
    "slideshow": {
     "slide_type": "fragment"
    }
   },
   "source": [
    "### Create a new subdirectory named \"primer\" :\n",
    "```sh\n",
    "mkdir primer\n",
    "```"
   ]
  },
  {
   "cell_type": "code",
   "execution_count": 5,
   "metadata": {
    "slideshow": {
     "slide_type": "fragment"
    }
   },
   "outputs": [],
   "source": [
    "%%bash\n",
    "rm -rf primer  # remove primer directory if it exists\n",
    "mkdir  primer  # make the new directory "
   ]
  },
  {
   "cell_type": "markdown",
   "metadata": {
    "slideshow": {
     "slide_type": "fragment"
    }
   },
   "source": [
    "Now change to the \"primer\" subdirectory, making it your current working directory:\n",
    "```sh\n",
    "cd primer\n",
    "pwd\n",
    "```"
   ]
  },
  {
   "cell_type": "code",
   "execution_count": 6,
   "metadata": {
    "slideshow": {
     "slide_type": "fragment"
    }
   },
   "outputs": [],
   "source": [
    "%%bash\n",
    "cd primer"
   ]
  },
  {
   "cell_type": "markdown",
   "metadata": {
    "slideshow": {
     "slide_type": "slide"
    }
   },
   "source": [
    "## Files\n",
    "\n",
    "Create a file using `date` command and `whoami`:\n",
    "```sh\n",
    "date >> first.txt\n",
    "whoami >> first.txt\n",
    "```\n",
    "date and whoami are not jupyter magic commands"
   ]
  },
  {
   "cell_type": "code",
   "execution_count": 9,
   "metadata": {
    "slideshow": {
     "slide_type": "fragment"
    }
   },
   "outputs": [],
   "source": [
    "%%bash\n",
    "\n",
    "date >> first.txt\n",
    "whoami >> first.txt"
   ]
  },
  {
   "cell_type": "markdown",
   "metadata": {
    "slideshow": {
     "slide_type": "slide"
    }
   },
   "source": [
    "### List files and directories\n",
    "Files live within directories. You can see a list of the files in your \"primer\" directory (which should be your current working directory) by typing:\n",
    "```sh\n",
    "ls\n",
    "```"
   ]
  },
  {
   "cell_type": "code",
   "execution_count": 10,
   "metadata": {
    "slideshow": {
     "slide_type": "fragment"
    }
   },
   "outputs": [
    {
     "name": "stdout",
     "output_type": "stream",
     "text": [
      "01.Installation.ipynb\n",
      "02.GitBasics.ipynb\n",
      "03.JupyterQuickStart.ipynb\n",
      "04.WordCount.ipynb\n",
      "05.MapReduce.ipynb\n",
      "06.ParallelComputation.ipynb\n",
      "07.AsynchronousProcessing.ipynb\n",
      "08.DaskDelayed.ipynb\n",
      "09.DaskBag.ipynb\n",
      "10.PySpark.ipynb\n",
      "11.UnixCommands.ipynb\n",
      "12.Hadoop.ipynb\n",
      "13.PandasSeries.ipynb\n",
      "14.PandasDataFrames.ipynb\n",
      "15.DaskDataframes.ipynb\n",
      "16.SparkDataFrames.ipynb\n",
      "17.PySparkHadoop.ipynb\n",
      "18.NYCTaxiCabTrip.ipynb\n",
      "19.WashingtonCrimes.ipynb\n",
      "20.Philadelphie.ipynb\n",
      "21.PhiladelphieSolutions.ipynb\n",
      "22.ExamCorrection2017.ipynb\n",
      "first.txt\n",
      "primer\n"
     ]
    }
   ],
   "source": [
    "%%bash\n",
    "ls"
   ]
  },
  {
   "cell_type": "markdown",
   "metadata": {
    "slideshow": {
     "slide_type": "slide"
    }
   },
   "source": [
    "### Display file content\n",
    "You can view a text file with the following command:\n",
    "```sh\n",
    "cat first.txt\n",
    "```\n",
    "(\"cat\" is short for concatenate - you can use this to display multiple files together on the screen.) If you have a file that is longer than your 24-line console window, use instead \"more\" to list one page at a time or \"less\" to scroll the file down and up with the arrow keys. Don't use these programs to try to display binary (non-text) files on your console - the attempt to print the non-printable control characters might alter your console settings and render the console unusable."
   ]
  },
  {
   "cell_type": "code",
   "execution_count": 11,
   "metadata": {
    "slideshow": {
     "slide_type": "fragment"
    }
   },
   "outputs": [
    {
     "name": "stdout",
     "output_type": "stream",
     "text": [
      "Thu Sep  6 15:19:44 CEST 2018\n",
      "navaro\n",
      "Thu Sep  6 15:19:57 CEST 2018\n",
      "navaro\n"
     ]
    }
   ],
   "source": [
    "%%bash\n",
    "cat first.txt"
   ]
  },
  {
   "cell_type": "markdown",
   "metadata": {
    "slideshow": {
     "slide_type": "slide"
    }
   },
   "source": [
    "- Copy file \"first\" using the following command:\n",
    "\n",
    "```sh\n",
    "cp first.txt 2nd.txt\n",
    "```\n",
    "By doing this you have created a new file named \"2nd.txt\" which is a duplicate of file \"first.txt\". Geet he file listing with:\n",
    "```sh\n",
    "ls\n",
    "```"
   ]
  },
  {
   "cell_type": "code",
   "execution_count": 12,
   "metadata": {
    "slideshow": {
     "slide_type": "fragment"
    }
   },
   "outputs": [
    {
     "name": "stdout",
     "output_type": "stream",
     "text": [
      "01.Installation.ipynb\n",
      "02.GitBasics.ipynb\n",
      "03.JupyterQuickStart.ipynb\n",
      "04.WordCount.ipynb\n",
      "05.MapReduce.ipynb\n",
      "06.ParallelComputation.ipynb\n",
      "07.AsynchronousProcessing.ipynb\n",
      "08.DaskDelayed.ipynb\n",
      "09.DaskBag.ipynb\n",
      "10.PySpark.ipynb\n",
      "11.UnixCommands.ipynb\n",
      "12.Hadoop.ipynb\n",
      "13.PandasSeries.ipynb\n",
      "14.PandasDataFrames.ipynb\n",
      "15.DaskDataframes.ipynb\n",
      "16.SparkDataFrames.ipynb\n",
      "17.PySparkHadoop.ipynb\n",
      "18.NYCTaxiCabTrip.ipynb\n",
      "19.WashingtonCrimes.ipynb\n",
      "20.Philadelphie.ipynb\n",
      "21.PhiladelphieSolutions.ipynb\n",
      "22.ExamCorrection2017.ipynb\n",
      "2nd.txt\n",
      "first.txt\n",
      "primer\n"
     ]
    }
   ],
   "source": [
    "%%bash\n",
    "cp first.txt 2nd.txt\n",
    "ls"
   ]
  },
  {
   "cell_type": "markdown",
   "metadata": {
    "slideshow": {
     "slide_type": "fragment"
    }
   },
   "source": [
    "- Now rename the file \"2nd\" to \"second\":\n",
    "```sh\n",
    "mv 2nd.txt second.txt\n",
    "```\n",
    "Listing the files still shows two files because you haven't created a new file, just changed an existing file's name:\n",
    "```sh\n",
    "ls\n",
    "```"
   ]
  },
  {
   "cell_type": "code",
   "execution_count": 13,
   "metadata": {
    "slideshow": {
     "slide_type": "fragment"
    }
   },
   "outputs": [
    {
     "name": "stdout",
     "output_type": "stream",
     "text": [
      "01.Installation.ipynb\n",
      "02.GitBasics.ipynb\n",
      "03.JupyterQuickStart.ipynb\n",
      "04.WordCount.ipynb\n",
      "05.MapReduce.ipynb\n",
      "06.ParallelComputation.ipynb\n",
      "07.AsynchronousProcessing.ipynb\n",
      "08.DaskDelayed.ipynb\n",
      "09.DaskBag.ipynb\n",
      "10.PySpark.ipynb\n",
      "11.UnixCommands.ipynb\n",
      "12.Hadoop.ipynb\n",
      "13.PandasSeries.ipynb\n",
      "14.PandasDataFrames.ipynb\n",
      "15.DaskDataframes.ipynb\n",
      "16.SparkDataFrames.ipynb\n",
      "17.PySparkHadoop.ipynb\n",
      "18.NYCTaxiCabTrip.ipynb\n",
      "19.WashingtonCrimes.ipynb\n",
      "20.Philadelphie.ipynb\n",
      "21.PhiladelphieSolutions.ipynb\n",
      "22.ExamCorrection2017.ipynb\n",
      "first.txt\n",
      "primer\n",
      "second.txt\n"
     ]
    }
   ],
   "source": [
    "%%bash\n",
    "mv 2nd.txt second.txt\n",
    "ls"
   ]
  },
  {
   "cell_type": "markdown",
   "metadata": {
    "slideshow": {
     "slide_type": "slide"
    }
   },
   "source": [
    "If you \"cat\" the second file, you'll see the same sentence as in your first file:\n",
    "```sh \n",
    "cat second.txt\n",
    "```"
   ]
  },
  {
   "cell_type": "code",
   "execution_count": 14,
   "metadata": {
    "slideshow": {
     "slide_type": "fragment"
    }
   },
   "outputs": [
    {
     "name": "stdout",
     "output_type": "stream",
     "text": [
      "Thu Sep  6 15:19:44 CEST 2018\n",
      "navaro\n",
      "Thu Sep  6 15:19:57 CEST 2018\n",
      "navaro\n"
     ]
    }
   ],
   "source": [
    "%%bash\n",
    "cat second.txt"
   ]
  },
  {
   "cell_type": "markdown",
   "metadata": {
    "slideshow": {
     "slide_type": "slide"
    }
   },
   "source": [
    "\"mv\" will allow you to move files, not just rename them. Perform the following commands:\n",
    "```sh \n",
    "mkdir sub\n",
    "mv second.txt sub\n",
    "ls sub\n",
    "ls\n",
    "```\n",
    "(where \"username\" will be your username and \"group\" will be your group name). Among other things, this lists the creation date and time, file access permissions, and file size in bytes. The letter 'd' (the first character on the line) indicates the directory names."
   ]
  },
  {
   "cell_type": "code",
   "execution_count": 15,
   "metadata": {
    "slideshow": {
     "slide_type": "slide"
    }
   },
   "outputs": [
    {
     "name": "stdout",
     "output_type": "stream",
     "text": [
      "second.txt\n"
     ]
    }
   ],
   "source": [
    "%%bash\n",
    "mkdir sub\n",
    "mv second.txt sub\n",
    "ls sub"
   ]
  },
  {
   "cell_type": "markdown",
   "metadata": {
    "slideshow": {
     "slide_type": "fragment"
    }
   },
   "source": [
    "This creates a new subdirectory named \"sub\", moves \"second\" into \"sub\", then lists the contents of both directories. You can list even more information about files by using the \"-l\" option with \"ls\":"
   ]
  },
  {
   "cell_type": "code",
   "execution_count": 16,
   "metadata": {
    "slideshow": {
     "slide_type": "fragment"
    }
   },
   "outputs": [
    {
     "name": "stdout",
     "output_type": "stream",
     "text": [
      "total 8616\n",
      "-rw-r--r--  1 navaro  staff     3190 Sep  3 10:04 01.Installation.ipynb\n",
      "-rw-r--r--  1 navaro  staff    11368 Sep  3 10:04 02.GitBasics.ipynb\n",
      "-rw-r--r--  1 navaro  staff    13305 Sep  3 10:04 03.JupyterQuickStart.ipynb\n",
      "-rw-r--r--  1 navaro  staff    12607 Sep  3 10:04 04.WordCount.ipynb\n",
      "-rw-r--r--  1 navaro  staff    11273 Sep  3 10:04 05.MapReduce.ipynb\n",
      "-rw-r--r--  1 navaro  staff    17078 Sep  3 10:04 06.ParallelComputation.ipynb\n",
      "-rw-r--r--  1 navaro  staff    42692 Sep  3 10:04 07.AsynchronousProcessing.ipynb\n",
      "-rw-r--r--  1 navaro  staff    38011 Sep  3 10:04 08.DaskDelayed.ipynb\n",
      "-rw-r--r--  1 navaro  staff   289909 Sep  3 10:04 09.DaskBag.ipynb\n",
      "-rw-r--r--  1 navaro  staff    37967 Sep  3 10:04 10.PySpark.ipynb\n",
      "-rw-r--r--  1 navaro  staff    52847 Sep  6 15:19 11.UnixCommands.ipynb\n",
      "-rw-r--r--  1 navaro  staff    24096 Sep  3 10:04 12.Hadoop.ipynb\n",
      "-rw-r--r--  1 navaro  staff   456059 Sep  3 10:04 13.PandasSeries.ipynb\n",
      "-rw-r--r--  1 navaro  staff   465725 Sep  3 10:04 14.PandasDataFrames.ipynb\n",
      "-rw-r--r--  1 navaro  staff  2702326 Sep  3 10:04 15.DaskDataframes.ipynb\n",
      "-rw-r--r--  1 navaro  staff     5164 Sep  3 10:04 16.SparkDataFrames.ipynb\n",
      "-rw-r--r--  1 navaro  staff    71591 Sep  3 10:04 17.PySparkHadoop.ipynb\n",
      "-rw-r--r--  1 navaro  staff    14148 Sep  3 10:04 18.NYCTaxiCabTrip.ipynb\n",
      "-rw-r--r--  1 navaro  staff    59118 Sep  3 10:04 19.WashingtonCrimes.ipynb\n",
      "-rw-r--r--  1 navaro  staff    14334 Sep  3 10:04 20.Philadelphie.ipynb\n",
      "-rw-r--r--  1 navaro  staff     7139 Sep  3 10:04 21.PhiladelphieSolutions.ipynb\n",
      "-rw-r--r--  1 navaro  staff    13934 Sep  3 10:04 22.ExamCorrection2017.ipynb\n",
      "-rw-r--r--  1 navaro  staff       74 Sep  6 15:19 first.txt\n",
      "drwxr-xr-x  2 navaro  staff       64 Sep  6 15:19 primer\n",
      "drwxr-xr-x  3 navaro  staff       96 Sep  6 15:20 sub\n"
     ]
    }
   ],
   "source": [
    "%%bash\n",
    "ls -l"
   ]
  },
  {
   "cell_type": "markdown",
   "metadata": {
    "slideshow": {
     "slide_type": "slide"
    }
   },
   "source": [
    "Next perform the following commands:\n",
    "```sh\n",
    "cd sub\n",
    "pwd\n",
    "ls -l\n",
    "cd ..\n",
    "pwd\n",
    "```\n"
   ]
  },
  {
   "cell_type": "code",
   "execution_count": 17,
   "metadata": {
    "slideshow": {
     "slide_type": "fragment"
    }
   },
   "outputs": [
    {
     "name": "stdout",
     "output_type": "stream",
     "text": [
      "/Users/navaro/PycharmProjects/big-data/notebooks/sub\n",
      "total 8\n",
      "-rw-r--r--  1 navaro  staff  74 Sep  6 15:20 second.txt\n",
      "/Users/navaro/PycharmProjects/big-data/notebooks\n"
     ]
    }
   ],
   "source": [
    "%%bash\n",
    "# go to sub directory\n",
    "cd sub \n",
    "# current working directory\n",
    "pwd  \n",
    "# list files with permissions\n",
    "ls -l \n",
    "# go to parent directory\n",
    "cd ..  \n",
    "# current working directory\n",
    "pwd     "
   ]
  },
  {
   "cell_type": "markdown",
   "metadata": {
    "slideshow": {
     "slide_type": "slide"
    }
   },
   "source": [
    "Finally, clean up the duplicate files by removing the \"second.txt\" file and the \"sub\" subdirectory:\n",
    "```sh\n",
    "rm sub/second.txt\n",
    "rmdir sub\n",
    "ls -l\n",
    "cd\n",
    "```\n",
    "This shows that you can refer to a file in a different directory using the relative path name to the file (you can also use the absolute path name to the file - something like \"/Users/username/primer/sub/second.txt\", depending on your home directory). You can also include the \"..\" within the path name (for instance, you could have referred to the file as \"../primer/sub/second.txt\")."
   ]
  },
  {
   "cell_type": "code",
   "execution_count": 22,
   "metadata": {
    "slideshow": {
     "slide_type": "fragment"
    }
   },
   "outputs": [
    {
     "name": "stdout",
     "output_type": "stream",
     "text": [
      "total 8632\n",
      "-rw-r--r--  1 navaro  staff     3190 Sep  3 10:04 01.Installation.ipynb\n",
      "-rw-r--r--  1 navaro  staff    11368 Sep  3 10:04 02.GitBasics.ipynb\n",
      "-rw-r--r--  1 navaro  staff    13305 Sep  3 10:04 03.JupyterQuickStart.ipynb\n",
      "-rw-r--r--  1 navaro  staff    12607 Sep  3 10:04 04.WordCount.ipynb\n",
      "-rw-r--r--  1 navaro  staff    11273 Sep  3 10:04 05.MapReduce.ipynb\n",
      "-rw-r--r--  1 navaro  staff    17078 Sep  3 10:04 06.ParallelComputation.ipynb\n",
      "-rw-r--r--  1 navaro  staff    42692 Sep  3 10:04 07.AsynchronousProcessing.ipynb\n",
      "-rw-r--r--  1 navaro  staff    38011 Sep  3 10:04 08.DaskDelayed.ipynb\n",
      "-rw-r--r--  1 navaro  staff   289909 Sep  3 10:04 09.DaskBag.ipynb\n",
      "-rw-r--r--  1 navaro  staff    37967 Sep  3 10:04 10.PySpark.ipynb\n",
      "-rw-r--r--  1 navaro  staff    59075 Sep  6 15:21 11.UnixCommands.ipynb\n",
      "-rw-r--r--  1 navaro  staff    24096 Sep  3 10:04 12.Hadoop.ipynb\n",
      "-rw-r--r--  1 navaro  staff   456059 Sep  3 10:04 13.PandasSeries.ipynb\n",
      "-rw-r--r--  1 navaro  staff   465725 Sep  3 10:04 14.PandasDataFrames.ipynb\n",
      "-rw-r--r--  1 navaro  staff  2702326 Sep  3 10:04 15.DaskDataframes.ipynb\n",
      "-rw-r--r--  1 navaro  staff     5164 Sep  3 10:04 16.SparkDataFrames.ipynb\n",
      "-rw-r--r--  1 navaro  staff    71591 Sep  3 10:04 17.PySparkHadoop.ipynb\n",
      "-rw-r--r--  1 navaro  staff    14148 Sep  3 10:04 18.NYCTaxiCabTrip.ipynb\n",
      "-rw-r--r--  1 navaro  staff    59118 Sep  3 10:04 19.WashingtonCrimes.ipynb\n",
      "-rw-r--r--  1 navaro  staff    14334 Sep  3 10:04 20.Philadelphie.ipynb\n",
      "-rw-r--r--  1 navaro  staff     7139 Sep  3 10:04 21.PhiladelphieSolutions.ipynb\n",
      "-rw-r--r--  1 navaro  staff    13934 Sep  3 10:04 22.ExamCorrection2017.ipynb\n",
      "-rw-r--r--  1 navaro  staff       74 Sep  6 15:19 first.txt\n",
      "drwxr-xr-x  2 navaro  staff       64 Sep  6 15:19 primer\n"
     ]
    },
    {
     "name": "stderr",
     "output_type": "stream",
     "text": [
      "rmdir: sub: No such file or directory\n"
     ]
    }
   ],
   "source": [
    "%%bash\n",
    "rm -f sub/second.txt\n",
    "rmdir sub\n",
    "ls -l\n",
    "cd ..\n",
    "rm -rf primer"
   ]
  },
  {
   "cell_type": "markdown",
   "metadata": {
    "slideshow": {
     "slide_type": "slide"
    }
   },
   "source": [
    "## Connect to a server\n",
    "\n",
    "Remote login to another machine can be accomplished using the \"ssh\" command:\n",
    "```bash\n",
    "ssh -l mylogin host\n",
    "```\n",
    "or\n",
    "```bash\n",
    "ssh mylogin@host\n",
    "```\n",
    "where \"myname\" will be your username on the remote system (possibly identical to your username on this system) and \"host\" is the name (or IP address) of the machine you are logging into. \n",
    "\n",
    "Transfer files between machines using \"scp\". \n",
    "- To copy file \"myfile\" from the remote machine named \"host\":\n",
    "```bash\n",
    "scp myname@host:myfile .\n",
    "```\n",
    "- To copy file \"myfile\" from the local machine to the remote named \"host\":\n",
    "```bash\n",
    "scp myfile myname@host:\n",
    "```\n",
    "(The \".\" refers to your current working directory, meaning that the destination for \"myfile\" is your current directory.)"
   ]
  },
  {
   "cell_type": "markdown",
   "metadata": {
    "slideshow": {
     "slide_type": "slide"
    }
   },
   "source": [
    "## Summary Of Basic Shell Commands\n",
    "```bash\n",
    "% pico myfile\t            # text edit file \"myfile\"\n",
    "% ls\t                    # list files in current directory\n",
    "% ls -l\t                    # long format listing\n",
    "% touch myfile              # create new empty file \"myfile\"\n",
    "% cat myfile\t            # view contents of text file \"myfile\"\n",
    "% more myfile\t            # paged viewing of text file \"myfile\"\n",
    "% less myfile\t            # scroll through text file \"myfile\"\n",
    "% head myfile               # view 10 first lines of text file \"myfile\"\n",
    "% tail myfile               # view 10 last lines of text file \"myfile\"\n",
    "% cp srcfile destfile\t    # copy file \"srcfile\" to new file \"destfile\"\n",
    "% mv oldname newname\t    # rename (or move) file \"oldname\" to \"newname\"\n",
    "% rm myfile\t                # remove file \"myfile\"\n",
    "% mkdir subdir\t            # make new directory \"subdir\"\n",
    "% cd subdir\t                # change current working directory to \"subdir\"\n",
    "% rmdir subdir\t            # remove (empty) directory \"subdir\"\n",
    "% pwd\t                    # display current working directory\n",
    "% date\t                    # display current date and time of day\n",
    "% ssh -l myname host\t    # remote shell login of username \"myname\" to \"host\"\n",
    "% scp myname@host:myfile .\t# remote copy of file \"myfile\" to current directory\n",
    "% scp myfile myname@host:\t# copy of file \"myfile\" to remote server\n",
    "% firefox &\t                # start Firefox web browser (in background)\n",
    "% jobs                      # display programs running in background\n",
    "% kill %n                   # kill job number n (use jobs to get this number)\n",
    "% man -k \"topic\"\t        # search manual pages for \"topic\"\n",
    "% man command\t            # display man page for \"command\"\n",
    "% exit\t                    # exit a terminal window\n",
    "% logout\t                # logout of a console session\n",
    "```"
   ]
  },
  {
   "cell_type": "markdown",
   "metadata": {
    "slideshow": {
     "slide_type": "slide"
    }
   },
   "source": [
    "## Redirecting \n",
    "\n",
    "Redirection is usually implemented by placing characters <,>,|,>> between commands.\n",
    "\n",
    "- Use  > to redirect output.\n",
    "```bash\n",
    "ls *.ipynb > file_list.txt\n",
    "```\n",
    "executes `ls`, placing the output in file_list.txt, as opposed to displaying it at the terminal, which is the usual destination for standard output. This will clobber any existing data in file1."
   ]
  },
  {
   "cell_type": "code",
   "execution_count": 23,
   "metadata": {
    "slideshow": {
     "slide_type": "fragment"
    }
   },
   "outputs": [],
   "source": [
    "%%bash\n",
    "ls *.ipynb > file_list.txt"
   ]
  },
  {
   "cell_type": "markdown",
   "metadata": {
    "slideshow": {
     "slide_type": "fragment"
    }
   },
   "source": [
    "- Use < to redirect input.\n",
    "```bash\n",
    "wc < file_list.txt\n",
    "```\n",
    "executes `wc`, with file_list.txt as the source of input, as opposed to the keyboard, which is the usual source for standard input.\n",
    "\n"
   ]
  },
  {
   "cell_type": "markdown",
   "metadata": {
    "slideshow": {
     "slide_type": "slide"
    }
   },
   "source": [
    "### Python example"
   ]
  },
  {
   "cell_type": "code",
   "execution_count": 24,
   "metadata": {
    "slideshow": {
     "slide_type": "fragment"
    }
   },
   "outputs": [
    {
     "name": "stdout",
     "output_type": "stream",
     "text": [
      "Writing test_stdin.py\n"
     ]
    }
   ],
   "source": [
    "%%file test_stdin.py\n",
    "#!/usr/bin env python3\n",
    "import sys\n",
    "\n",
    "# input comes from standard input\n",
    "k = 0\n",
    "for file in sys.stdin:\n",
    "    k +=1\n",
    "    print('file {} : {}'.format(k,file))"
   ]
  },
  {
   "cell_type": "code",
   "execution_count": 25,
   "metadata": {
    "slideshow": {
     "slide_type": "fragment"
    }
   },
   "outputs": [
    {
     "name": "stdout",
     "output_type": "stream",
     "text": [
      "file 1 : 01.Installation.ipynb\r\n",
      "\r\n",
      "file 2 : 02.GitBasics.ipynb\r\n",
      "\r\n",
      "file 3 : 03.JupyterQuickStart.ipynb\r\n",
      "\r\n",
      "file 4 : 04.WordCount.ipynb\r\n",
      "\r\n",
      "file 5 : 05.MapReduce.ipynb\r\n",
      "\r\n",
      "file 6 : 06.ParallelComputation.ipynb\r\n",
      "\r\n",
      "file 7 : 07.AsynchronousProcessing.ipynb\r\n",
      "\r\n",
      "file 8 : 08.DaskDelayed.ipynb\r\n",
      "\r\n",
      "file 9 : 09.DaskBag.ipynb\r\n",
      "\r\n",
      "file 10 : 10.PySpark.ipynb\r\n",
      "\r\n",
      "file 11 : 11.UnixCommands.ipynb\r\n",
      "\r\n",
      "file 12 : 12.Hadoop.ipynb\r\n",
      "\r\n",
      "file 13 : 13.PandasSeries.ipynb\r\n",
      "\r\n",
      "file 14 : 14.PandasDataFrames.ipynb\r\n",
      "\r\n",
      "file 15 : 15.DaskDataframes.ipynb\r\n",
      "\r\n",
      "file 16 : 16.SparkDataFrames.ipynb\r\n",
      "\r\n",
      "file 17 : 17.PySparkHadoop.ipynb\r\n",
      "\r\n",
      "file 18 : 18.NYCTaxiCabTrip.ipynb\r\n",
      "\r\n",
      "file 19 : 19.WashingtonCrimes.ipynb\r\n",
      "\r\n",
      "file 20 : 20.Philadelphie.ipynb\r\n",
      "\r\n",
      "file 21 : 21.PhiladelphieSolutions.ipynb\r\n",
      "\r\n",
      "file 22 : 22.ExamCorrection2017.ipynb\r\n",
      "\r\n"
     ]
    }
   ],
   "source": [
    "!python3 test_stdin.py < file_list.txt"
   ]
  },
  {
   "cell_type": "markdown",
   "metadata": {
    "slideshow": {
     "slide_type": "slide"
    }
   },
   "source": [
    "You can combine the two capabilities: read from an input file and write to an output file."
   ]
  },
  {
   "cell_type": "code",
   "execution_count": 36,
   "metadata": {
    "slideshow": {
     "slide_type": "fragment"
    }
   },
   "outputs": [],
   "source": [
    "!python3 test_stdin.py < file_list.txt > output.txt"
   ]
  },
  {
   "cell_type": "code",
   "execution_count": 37,
   "metadata": {
    "slideshow": {
     "slide_type": "fragment"
    }
   },
   "outputs": [
    {
     "name": "stdout",
     "output_type": "stream",
     "text": [
      "file 1 : 01.MapReduce.ipynb\r\n",
      "\r\n",
      "file 2 : 02.Containers.ipynb\r\n",
      "\r\n",
      "file 3 : 03.ParallelComputation.ipynb\r\n",
      "\r\n",
      "file 4 : 04.AsynchonousProcessing.ipynb\r\n",
      "\r\n",
      "file 5 : 05.UnixCommands.ipynb\r\n",
      "\r\n",
      "file 6 : 06.Hadoop.ipynb\r\n",
      "\r\n",
      "file 7 : 07.PySpark.ipynb\r\n",
      "\r\n",
      "file 8 : 08.Dask.ipynb\r\n",
      "\r\n"
     ]
    }
   ],
   "source": [
    "%cat output.txt"
   ]
  },
  {
   "cell_type": "markdown",
   "metadata": {
    "slideshow": {
     "slide_type": "slide"
    }
   },
   "source": [
    "To append output to the end of the file, rather than clobbering it, the >> operator is used:\n",
    "\n",
    "date >> output.txt\n",
    "\n",
    "It will append the today date to the end of the file output.txt\n"
   ]
  },
  {
   "cell_type": "code",
   "execution_count": 38,
   "metadata": {
    "slideshow": {
     "slide_type": "fragment"
    }
   },
   "outputs": [
    {
     "name": "stdout",
     "output_type": "stream",
     "text": [
      "file 1 : 01.MapReduce.ipynb\r\n",
      "\r\n",
      "file 2 : 02.Containers.ipynb\r\n",
      "\r\n",
      "file 3 : 03.ParallelComputation.ipynb\r\n",
      "\r\n",
      "file 4 : 04.AsynchonousProcessing.ipynb\r\n",
      "\r\n",
      "file 5 : 05.UnixCommands.ipynb\r\n",
      "\r\n",
      "file 6 : 06.Hadoop.ipynb\r\n",
      "\r\n",
      "file 7 : 07.PySpark.ipynb\r\n",
      "\r\n",
      "file 8 : 08.Dask.ipynb\r\n",
      "\r\n",
      "Jeu  9 nov 2017 22:01:19 CET\r\n"
     ]
    }
   ],
   "source": [
    "!date >> output.txt\n",
    "%cat output.txt"
   ]
  },
  {
   "cell_type": "markdown",
   "metadata": {
    "slideshow": {
     "slide_type": "slide"
    }
   },
   "source": [
    "## Permissions\n",
    "Every file on the system has associated with it a set of permissions. Permissions tell UNIX what can be done with that file and by whom. There are three things you can (or can't) do with a given file:\n",
    "- read,\n",
    "- write (modify),\n",
    "- execute.\n",
    "\n",
    "Unix permissions specify what can 'owner', 'group' and 'all' can do. \n",
    "\n",
    "If you try ls -l on the command prompt you get something like the following:\n",
    "```bash\n",
    "-rw-r--r--  1 navaro  staff   15799  5 oct 15:57 01.MapReduce.ipynb\n",
    "-rw-r--r--  1 navaro  staff   18209 12 oct 16:04 02.Containers.ipynb\n",
    "-rw-r--r--  1 navaro  staff   37963 12 oct 21:28 03.ParallelComputation.ipynb\n",
    "```\n",
    "\n",
    "\n",
    "Three bits specify access permissions: \n",
    "- **r** read,\n",
    "- **w** access,\n",
    "- **w** execute. \n",
    "\n"
   ]
  },
  {
   "cell_type": "markdown",
   "metadata": {
    "slideshow": {
     "slide_type": "slide"
    }
   },
   "source": [
    "### Example \n",
    "```\n",
    "rwxr-xr--\n",
    "```\n",
    "- the owner can do anything with the file, \n",
    "- group owners and the  can only read or execute it. \n",
    "- rest of the world can only read\n",
    "\n",
    "## chmod\n",
    "To set/modify a file's permissions you need to use the chmod program. Of course, only the owner of a file may use chmod to alter a file's permissions. chmod has the following syntax: \n",
    "```bash\n",
    "chmod [options] mode file(s)\n",
    "```\n",
    "\n",
    "- The 'mode' part specifies the new permissions for the file(s) that follow as arguments. A mode specifies which user's permissions should be changed, and afterwards which access types should be changed.\n",
    "- We use `+` or `-` to change the mode for owner, group and the rest of the world.\n",
    "- The permissions start with a letter specifying what users should be affected by the change.\n",
    "\n",
    "Original permissions of script.py are `rw-------`\n",
    "\n",
    "- `chmod u+x script.py` set permissions to `rwx------`\n",
    "- `chmod a+x script.py` set permissions to `rwx--x--x`\n",
    "- `chmod g+r script.py` set permissions to `rwxr-x--x`\n",
    "- `chmod o-x script.py` set permissions to `rwxr-x---`\n",
    "- `chmod og+w script.py` set permissions to `rwxrwx-w-`\n",
    "\n",
    "\n",
    "\n",
    "\n"
   ]
  },
  {
   "cell_type": "markdown",
   "metadata": {
    "slideshow": {
     "slide_type": "slide"
    }
   },
   "source": [
    "## Download files\n",
    "\n",
    "```bash\n",
    "mkdir books\n",
    "wget -q -O books/972.txt http://www.gutenberg.org/ebooks/972.txt.utf-8\n",
    "wget -e use_proxy=yes -e http_proxy=127.0.0.1:8080 \n",
    "```"
   ]
  },
  {
   "cell_type": "markdown",
   "metadata": {
    "slideshow": {
     "slide_type": "slide"
    }
   },
   "source": [
    "## Pipelining\n",
    "```bash\n",
    "ls | grep ipynb\n",
    "```\n",
    "executes `ls`, using its output as the input for `grep`.\n",
    "\n",
    "### Exercice 11.1\n",
    "\n",
    "- Pipe `cat *.ipynb` output to `sort` command.\n",
    "- Pipe `ls` output to `wc` command.\n",
    "- Pipe `cat 11.UnixCommands.ipynb` to `less` command."
   ]
  },
  {
   "cell_type": "markdown",
   "metadata": {
    "slideshow": {
     "slide_type": "slide"
    }
   },
   "source": [
    "\n",
    "## Chained pipelines\n",
    "\n",
    "The redirection and piping tokens can be chained together to create complex commands. \n",
    "\n",
    "### Exercice 11.2\n",
    "\n",
    "Use unix commands chained to display word count of file `sample.txt`.\n",
    "\n",
    "Hints:\n",
    "\n",
    "- `fmt -n` takes text as input and reformats it into  paragraphs with no line longer than n. \n",
    "- `sort` sort the output alphabetically\n",
    "- `tr -d str` delete the string str from the output\n",
    "- `uniq -c` writes a copy of each unique input and precede each word with the count of the number of occurences.\n",
    "\n"
   ]
  },
  {
   "cell_type": "code",
   "execution_count": 26,
   "metadata": {
    "slideshow": {
     "slide_type": "skip"
    }
   },
   "outputs": [],
   "source": [
    "from lorem import text\n",
    "with open('sample.txt', 'w') as f:\n",
    "    f.write(text())"
   ]
  },
  {
   "cell_type": "markdown",
   "metadata": {
    "slideshow": {
     "slide_type": "slide"
    }
   },
   "source": [
    "### Exercice 11.3\n",
    "\n",
    "- Create a python script mapper.py to count words from stdin. The script prints out every word found in stdin with the value 1 separate by a tab.\n",
    "```text\n",
    "Consectetur\t1\n",
    "adipisci\t1\n",
    "quiquia\t1\n",
    "sit\t1\n",
    "```\n"
   ]
  },
  {
   "cell_type": "markdown",
   "metadata": {
    "slideshow": {
     "slide_type": "slide"
    }
   },
   "source": [
    "File `mapper.py` must be executable."
   ]
  },
  {
   "cell_type": "code",
   "execution_count": 68,
   "metadata": {
    "slideshow": {
     "slide_type": "fragment"
    }
   },
   "outputs": [],
   "source": [
    "!chmod +x mapper.py"
   ]
  },
  {
   "cell_type": "code",
   "execution_count": 69,
   "metadata": {
    "slideshow": {
     "slide_type": "fragment"
    }
   },
   "outputs": [
    {
     "name": "stdout",
     "output_type": "stream",
     "text": [
      "   9 quisquam\t1\r\n",
      "   6 porro\t1\r\n",
      "   6 numquam\t1\r\n",
      "   6 non\t1\r\n",
      "   5 velit\t1\r\n",
      "   5 sed\t1\r\n",
      "   5 modi\t1\r\n",
      "   5 etincidunt\t1\r\n",
      "   5 amet\t1\r\n",
      "   4 voluptatem\t1\r\n",
      "   4 tempora\t1\r\n",
      "   4 dolorem\t1\r\n",
      "   4 aliquam\t1\r\n",
      "   4 adipisci\t1\r\n",
      "   3 sit\t1\r\n",
      "   3 quiquia\t1\r\n",
      "   3 ipsum\t1\r\n",
      "   3 eius\t1\r\n",
      "   3 dolor\t1\r\n",
      "   2 ut\t1\r\n",
      "   2 neque\t1\r\n",
      "   2 magnam\t1\r\n",
      "   2 labore\t1\r\n",
      "   1 quaerat\t1\r\n",
      "   1 est\t1\r\n",
      "   1 dolore\t1\r\n",
      "   1 consectetur\t1\r\n"
     ]
    }
   ],
   "source": [
    "!cat sample.txt | ./mapper.py | sort | uniq -c | sort -r"
   ]
  },
  {
   "cell_type": "markdown",
   "metadata": {
    "slideshow": {
     "slide_type": "slide"
    }
   },
   "source": [
    "### Exercice 5.4\n",
    "\n",
    "- Create a python script reducer.py to read output from mapper.py. The script prints out every word and number of occurences.\n",
    "```bash\n",
    "cat sample.txt | ./mapper.py | ./reducer.py\n",
    "```\n",
    "\n",
    "```text\n",
    "7\tporro\n",
    "7\teius\n",
    "6\tnon\n",
    "6\tdolore\n",
    "```\n",
    "\n"
   ]
  },
  {
   "cell_type": "code",
   "execution_count": 78,
   "metadata": {},
   "outputs": [
    {
     "name": "stdout",
     "output_type": "stream",
     "text": [
      "Overwriting reducer.py\n"
     ]
    }
   ],
   "source": [
    "%%file reducer.py\n",
    "#!/usr/bin/env python3\n",
    "from __future__ import print_function\n",
    "import sys\n",
    "\n",
    "current_word = None\n",
    "current_count = 0\n",
    "\n",
    "for line in sys.stdin:\n",
    "    \n",
    "    # parse the input we got from mapper.py\n",
    "    word = line.split('\\t')[0]\n",
    "    if current_word is None:\n",
    "        current_word = word\n",
    "\n",
    "    # this IF-switch only works because Hadoop sorts map output\n",
    "    # by key (here: word) before it is passed to the reducer\n",
    "    if current_word == word:\n",
    "        current_count += 1\n",
    "    else:\n",
    "        # write result to sys.stdout\n",
    "        print ('{}\\t{}'.format(current_count, current_word))\n",
    "        current_count = 0\n",
    "        current_word = None\n",
    "\n",
    "\n"
   ]
  },
  {
   "cell_type": "code",
   "execution_count": 79,
   "metadata": {},
   "outputs": [
    {
     "name": "stdout",
     "output_type": "stream",
     "text": [
      "8\tquisquam\r\n",
      "5\tporro\r\n",
      "5\tnumquam\r\n",
      "5\tnon\r\n",
      "5\tetincidunt\r\n",
      "4\tvelit\r\n",
      "4\tsed\r\n",
      "4\tmodi\r\n",
      "4\tdolorem\r\n",
      "4\tamet\r\n",
      "4\tadipisci\r\n",
      "3\ttempora\r\n",
      "3\tquiquia\r\n",
      "3\tdolor\r\n",
      "3\taliquam\r\n",
      "2\tsit\r\n",
      "2\tipsum\r\n",
      "2\teius\r\n",
      "1\tut\r\n",
      "1\tneque\r\n",
      "1\tmagnam\r\n",
      "1\tlabore\r\n"
     ]
    }
   ],
   "source": [
    "!chmod +x ./reducer.py!cat sample.txt | ./mapper.py | sort | ./reducer.py | sort -r"
   ]
  },
  {
   "cell_type": "code",
   "execution_count": null,
   "metadata": {},
   "outputs": [],
   "source": []
  }
 ],
 "metadata": {
  "celltoolbar": "Slideshow",
  "kernelspec": {
   "display_name": "Python 3",
   "language": "python",
   "name": "python3"
  },
  "language_info": {
   "codemirror_mode": {
    "name": "ipython",
    "version": 3
   },
   "file_extension": ".py",
   "mimetype": "text/x-python",
   "name": "python",
   "nbconvert_exporter": "python",
   "pygments_lexer": "ipython3",
   "version": "3.6.6"
  }
 },
 "nbformat": 4,
 "nbformat_minor": 2
}
