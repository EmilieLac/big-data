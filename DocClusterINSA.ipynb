{
 "cells": [
  {
   "cell_type": "markdown",
   "metadata": {
    "slideshow": {
     "slide_type": "slide"
    }
   },
   "source": [
    "# Connexion au cluster\n",
    "\n",
    "La connexion est possible uniquement depuis les PCs des salles de TP  \n",
    "\n",
    "```bash\n",
    "$ ssh pnavaro@cluster-infomaths.insa-rennes.fr\n",
    "The authenticity of host 'cluster-infomaths.insa-rennes.fr (193.52.94.112)' can't be established.\n",
    "ECDSA key fingerprint is SHA256:wEtf2Oc8PKFls/D9oDQF4vXcs9y2ku0i+At4KiVJ04Q.\n",
    "Are you sure you want to continue connecting (yes/no)? yes\n",
    "Warning: Permanently added 'cluster-infomaths.insa-rennes.fr,193.52.94.112' (ECDSA) to the list of known hosts.\n",
    "pnavaro@cluster-infomaths.insa-rennes.fr's password:\n",
    "Linux cim-tete 4.9.0-4-amd64 #1 SMP Debian 4.9.65-3+deb9u1 (2017-12-23) x86_64\n",
    "\n",
    "The programs included with the Debian GNU/Linux system are free software;\n",
    "the exact distribution terms for each program are described in the\n",
    "individual files in /usr/share/doc/*/copyright.\n",
    "\n",
    "Debian GNU/Linux comes with ABSOLUTELY NO WARRANTY, to the extent\n",
    "permitted by applicable law.\n",
    "Last login: Tue Oct 16 09:02:56 2018 from 10.4.1.36\n",
    "pnavaro@cim-tete:~$ \n",
    "```"
   ]
  },
  {
   "cell_type": "markdown",
   "metadata": {
    "slideshow": {
     "slide_type": "slide"
    }
   },
   "source": [
    "# Activer l'environnement conda big-data\n",
    "\n",
    "```bash\n",
    "source /opt/miniconda3/etc/profile.d/conda.sh\n",
    "conda activate big-data\n",
    "```"
   ]
  },
  {
   "cell_type": "markdown",
   "metadata": {
    "slideshow": {
     "slide_type": "slide"
    }
   },
   "source": [
    "# Commandes de base\n",
    "\n",
    "- **sbatch**  : soumission d'un job dans une partition.\n",
    "- **scancel** : suppression d'un job.\n",
    "- **squeue**  : interrogation des jobs.\n",
    "- **sinfo**   : interrogation des files d'attente.\n",
    "- **srun**    : execution immediate d'une commande.\n",
    "- **salloc**  : batch interactif, obtention d'un shell, permettant d'enchaîner plusieurs commandes sur les mêmes ressources.  \n",
    "- **sprio**   : priorités relatives entre les jobs en attente  \n",
    "\n",
    "Une documentation des commandes de base est disponible ici : [http://slurm.schedmd.com/man_index.html](http://slurm.schedmd.com/man_index.html) "
   ]
  },
  {
   "cell_type": "markdown",
   "metadata": {
    "slideshow": {
     "slide_type": "slide"
    }
   },
   "source": [
    "# Utilisation du Cluster\n",
    "\n",
    "## Ressources disponibles\n",
    "\n",
    "- **Noeuds :** 4 (cim-n01 / cim-n02 / cim-n03 / cim-n04)  \n",
    "- **CPU par noeud :** 24  \n",
    "- **Socket par noeud :** 1  \n",
    "- **Coeur par socket :** 12  \n",
    "- **Threads par coeur :** 2  \n",
    "- **RAM par noeud :** 64Go  \n",
    "- **Nom du cluster :** cluster-infomath  \n",
    "- **Nom de la partition :** queue "
   ]
  },
  {
   "cell_type": "markdown",
   "metadata": {
    "slideshow": {
     "slide_type": "slide"
    }
   },
   "source": [
    "## Lancement d'un job\n",
    "\n",
    "Pour lancer un job, il faut créer un script dans lequel il faut demander des ressources puis appeler son programme.  \n",
    "\n",
    "Ce script est ensuite soumi au gestionnaire de file d'attente avec la commande **sbatch**. Par exemple :  \n",
    "\n",
    "```\n",
    "$ sbatch mon_script.sh\n",
    "```\n",
    "\n",
    "On obtient alors un numéro de job, qui peut être manipulé avec les commandes `scancel` ou `squeue`.  \n",
    "\n",
    "Le script peut être écrit dans le langage de son choix (bash, tcsh, python, perl...). Il peut être exécuté directement, sans être appelé par sbatch, et dans ce cas, les directives d'allocations de ressources seront ignorées, et il s'exécutera dans le shell local.  "
   ]
  },
  {
   "cell_type": "markdown",
   "metadata": {
    "slideshow": {
     "slide_type": "slide"
    }
   },
   "source": [
    "`\n",
    "## Demande de ressources\n",
    "\n",
    "Vos besoins en terme de ressources sont décrits dans l'en-tête d'un fichier via des directives Slurm. Par exemple :  \n",
    "\n",
    "```slurm\n",
    "#SBATCH -N 4  \n",
    "#SBATCH --tasks-per-node 5\n",
    "```\n",
    "\n",
    "demandera une allocation de 4 noeuds à 5 coeurs chacun (par défaut, 1 tâche demande 1 coeur)."
   ]
  },
  {
   "cell_type": "markdown",
   "metadata": {
    "slideshow": {
     "slide_type": "subslide"
    }
   },
   "source": [
    "D'autres critères peuvent être spécifié via ces directives, comme la taille mémoire souhaitée ou la durée pendant laquelle les ressources seront attribuées.  \n",
    "\n",
    "**Plus vous serez parcimonieux dans la demande d'allocation, plus vous aurez de chance de voir rapidement votre job passer de l'état en attente à l'état en exécution.**  "
   ]
  },
  {
   "cell_type": "markdown",
   "metadata": {
    "slideshow": {
     "slide_type": "slide"
    }
   },
   "source": [
    "Par exemple, s'il est possible d'estimer précisément la durée nécessaire à une exécution, il peut être profitable de réduire au minimum la durée demandée pour la réservation. Ainsi une exécution se faisant en 3h30 pourra se faire au sein d'un job demandant 4h00 (marge de 30mn par précaution), avec la directive  \n",
    "\n",
    "```\n",
    "#SBATCH -t 04:00:00  \n",
    "```\n",
    "\n",
    "Attention toutefois à prendre une marge suffisante, car au-delà du temps demandé, l'exécution est stoppée automatiquement par Slurm."
   ]
  },
  {
   "cell_type": "markdown",
   "metadata": {
    "slideshow": {
     "slide_type": "slide"
    }
   },
   "source": [
    "Attention : toutes les partitions sont configurées avec une limite de temps d'exécution par défaut, qui s'applique à tout job ne précisant pas combien de temps doit lui être alloué. Pour connaître cette limite, utiliser la commande suivante :  \n",
    "\n",
    "```\n",
    "sinfo -o \"%10P %.11L %.11l\"\n",
    "```\n",
    "\n",
    "Remarque : tous les arguments de la directive #SBATCH peuvent également être utilisés en arguments des commandes srun, salloc et sbatch. Voir les exemples plus loin."
   ]
  },
  {
   "cell_type": "markdown",
   "metadata": {
    "slideshow": {
     "slide_type": "slide"
    }
   },
   "source": [
    "## Suivre l'état d'un job\n",
    "\n",
    "Il est possible d'obtenir le détail de l'état d'un job, qu'il soit en attente ou en exécution, avec les commandes scontrol ou squeue. La commande sview permet également en partie d'obtenir ces informations.  \n",
    "**Liste des jobs en cours :**  \n",
    "\n",
    "```\n",
    "squeue -u $USER\n",
    "```"
   ]
  },
  {
   "cell_type": "markdown",
   "metadata": {
    "slideshow": {
     "slide_type": "slide"
    }
   },
   "source": [
    "**Mon job est en attente. Quand va-t-il démarrer ?**  \n",
    "\n",
    "Pour les jobs en attente, Slurm calcul périodiquement un temps probable de démarrage.  \n",
    "\n",
    "2 possibilités pour l'obtenir:  \n",
    "\n",
    "```\n",
    "scontrol show job <jobid>| grep StartTime=</jobid>\n",
    "```\n",
    "\n",
    "```\n",
    "squeue -o \"%S\" -j\n",
    "```"
   ]
  },
  {
   "cell_type": "markdown",
   "metadata": {
    "slideshow": {
     "slide_type": "slide"
    }
   },
   "source": [
    "## Variables d'environnement\n",
    "\n",
    "Dans certains cas, votre programme a besoin de connaître plus précisément les ressources que Slurm a mis à sa disposition. Pour cela, Slurm fourni un certain nombre de variables d'environnement, qui sont utilisable dans le script qui appelle le programme.  \n",
    "\n",
    "- SLURM_NPROCS : nombre de coeurs alloués  \n",
    "- SLURM_NNODES : nombre de noeuds alloués  \n",
    "- SLURM_JOB_ID : job id  \n",
    "- SLURM_JOB_NODELIST : liste des noeuds alloués, sous une forme synthétique. Pour obtenir une liste détaillée, on peut utiliser la commande \"scontrol show hostname\""
   ]
  },
  {
   "cell_type": "markdown",
   "metadata": {
    "slideshow": {
     "slide_type": "slide"
    }
   },
   "source": [
    "## Priorités\n",
    "\n",
    "Quand plusieurs jobs sont en même temps en attente dans une file, Slurm calcule une priorité entre ces jobs. Le job ayant la priorité la plus élevée sera le prochain à passer en exécution.  \n",
    "\n",
    "La priorité des jobs peut être vue avec la commande `sprio -l`.  \n",
    "\n",
    "La priorité dépend de plusieurs facteurs :  \n",
    "- le temps d'attente déjà écoulé (AGE)  \n",
    "- la taille du job en nombre de coeurs : les gros jobs sont favorisés (JOBSIZE)  \n",
    "- la consommation en heures cpu sur le passé récent : plus la consommation a été faible, plus la priorité augmentera (FAIRSHARE).  "
   ]
  },
  {
   "cell_type": "markdown",
   "metadata": {
    "slideshow": {
     "slide_type": "slide"
    }
   },
   "source": [
    "## Exemple de script Slurm\n",
    "\n",
    "Ce script demande 16 coeurs répartis sur au minimum sur 1 noeuds et au maximum sur 2 noeuds :  \n",
    "\n",
    "```bash\n",
    "#! /bin/bash  \n",
    "#SBATCH -n 16 # 12 coeurs  \n",
    "#SBATCH -N 1-2  # au minimum 3 noeuds, au maximum 6  \n",
    "#SBATCH -t 00:10:00 # Le job sera tué au bout de 10 minutes  \n",
    "#SBATCH --mem=1024 # Quantité mémoire demandée par noeud en Mo (unité obligatoire)  \n",
    "#SBATCH --mail-type=END # Réception d'un mail à la fin du job  \n",
    "#SBATCH --mail-user=mon@adresse  \n",
    "\n",
    "source /opt/miniconda3/etc/profile.d/conda.sh\n",
    "conda activate big-data\n",
    "python keras_example.py\n",
    "```"
   ]
  },
  {
   "cell_type": "code",
   "execution_count": null,
   "metadata": {},
   "outputs": [],
   "source": []
  }
 ],
 "metadata": {
  "celltoolbar": "Slideshow",
  "kernelspec": {
   "display_name": "Python 3.7",
   "language": "python",
   "name": "python3"
  },
  "language_info": {
   "codemirror_mode": {
    "name": "ipython",
    "version": 3
   },
   "file_extension": ".py",
   "mimetype": "text/x-python",
   "name": "python",
   "nbconvert_exporter": "python",
   "pygments_lexer": "ipython3",
   "version": "3.7.1"
  }
 },
 "nbformat": 4,
 "nbformat_minor": 1
}
